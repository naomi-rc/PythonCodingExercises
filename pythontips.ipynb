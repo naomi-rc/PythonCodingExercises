{
 "metadata": {
  "language_info": {
   "codemirror_mode": {
    "name": "ipython",
    "version": 3
   },
   "file_extension": ".py",
   "mimetype": "text/x-python",
   "name": "python",
   "nbconvert_exporter": "python",
   "pygments_lexer": "ipython3",
   "version": "3.8.1-final"
  },
  "orig_nbformat": 2,
  "kernelspec": {
   "name": "python3",
   "display_name": "Python 3.8.1 64-bit",
   "metadata": {
    "interpreter": {
     "hash": "23b667ca40d91adbd94d17065713c224561ba773ffd13ab60b6bd18d66c48d18"
    }
   }
  }
 },
 "nbformat": 4,
 "nbformat_minor": 2,
 "cells": [
  {
   "cell_type": "code",
   "execution_count": 33,
   "metadata": {},
   "outputs": [
    {
     "output_type": "stream",
     "name": "stdout",
     "text": [
      "Normal arg: helloworld\n*args:\n('hello', 'there')\n{'arg1': 'hello', 'arg2': 'my', 'arg3': 'friend'}\n**kwargs:\n"
     ]
    }
   ],
   "source": [
    "#Args and kwargs (not necessary to be named args and kwargs)\n",
    "def args_func(*args):\n",
    "    for arg in args:\n",
    "        print(arg)\n",
    "\n",
    "def kwargs_func(**kwargs):\n",
    "    for key, value in kwargs:\n",
    "        print(f\"{key} = {value}\")\n",
    "\n",
    "def kwargs_func2(arg1, arg2, arg3):\n",
    "    print(f\"arg1 = {arg1}\")\n",
    "    print(f\"arg2 = {arg2}\")\n",
    "    print(f\"arg3 = {arg3}\")\n",
    "\n",
    "def my_func(arg, *args, **kwargs):\n",
    "    print(f\"Normal arg: {arg}\")\n",
    "    print(\"*args:\")\n",
    "    args_func(*args)\n",
    "    print(\"**kwargs:\")\n",
    "    kwargs_func(**kwargs)\n",
    "my_func(\"helloworld\", (\"hello\", \"there\"), {\"arg1\":\"hello\", \"arg2\":\"my\", \"arg3\":\"friend\"})\n"
   ]
  },
  {
   "cell_type": "code",
   "execution_count": 29,
   "metadata": {},
   "outputs": [
    {
     "output_type": "stream",
     "name": "stdout",
     "text": [
      "(0, 'A')\n(1, 'B')\n(2, 'C')\n(3, 'D')\n(4, 'E')\n(5, 'F')\n(6, 'G')\n(7, 'H')\n(8, 'I')\n(9, 'J')\n"
     ]
    }
   ],
   "source": [
    "#Generics\n",
    "def letters():\n",
    "    for i in range(65, 65+26):\n",
    "        yield chr(i)\n",
    "\n",
    "def numbers():\n",
    "    for i in range(10):\n",
    "        yield i\n",
    "\n",
    "for i in zip(numbers(), letters()):\n",
    "    print(i)"
   ]
  },
  {
   "cell_type": "code",
   "execution_count": null,
   "metadata": {},
   "outputs": [],
   "source": []
  }
 ]
}